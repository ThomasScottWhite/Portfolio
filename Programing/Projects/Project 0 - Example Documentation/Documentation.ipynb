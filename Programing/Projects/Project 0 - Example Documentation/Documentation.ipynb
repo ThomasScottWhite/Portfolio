{
 "cells": [
  {
   "cell_type": "markdown",
   "metadata": {},
   "source": [
    "# Project # : Name\n",
    "\n",
    "#### Step 1: Define The Problem\n",
    "- <u> Problem Statement </u>\n",
    "    - Problem Statement<br> <br>\n",
    "\n",
    "- Constraints:\n",
    "    -  <br>\n",
    "\n",
    "#### Step 2: Generate Concepts\n",
    "- <u> Brainstorming: </u> <br>\n",
    "    -  <br>\n",
    "        -  <br>\n",
    "\n",
    "\n",
    "#### Step 3: Develop Solution\n",
    "Chosen Solution and why\n",
    "\n",
    "\n",
    "- Requirements:\n",
    "    - <br>\n",
    "\n",
    "- Stretch Goals\n",
    "    - <br> \n",
    "\n",
    "- Research Required\n",
    "    - <br>\n",
    "    \n",
    "#### Step 4: Construct and Test Prototype\n",
    "\n",
    "#### Step 5: Evaluate Solution"
   ]
  },
  {
   "cell_type": "markdown",
   "metadata": {},
   "source": []
  }
 ],
 "metadata": {
  "language_info": {
   "name": "python"
  },
  "orig_nbformat": 4
 },
 "nbformat": 4,
 "nbformat_minor": 2
}
